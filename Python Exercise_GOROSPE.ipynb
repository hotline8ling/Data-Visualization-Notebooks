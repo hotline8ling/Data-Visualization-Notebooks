{
 "cells": [
  {
   "cell_type": "markdown",
   "metadata": {},
   "source": [
    "Roj Gian Gorospe - 4CSC \n",
    "DATA ANALYIS AND VISUALIZATION\n",
    "\n",
    "# Part 1: Introduction to NumPy"
   ]
  },
  {
   "cell_type": "markdown",
   "metadata": {},
   "source": [
    "TASK 1. Creating Arrays\n",
    "\n",
    "Create a 1D NumPy array containing the numbers from 1 to 15."
   ]
  },
  {
   "cell_type": "code",
   "execution_count": 26,
   "metadata": {},
   "outputs": [
    {
     "name": "stdout",
     "output_type": "stream",
     "text": [
      "List: [1, 2, 3, 4, 5, 6, 7, 8, 9, 10, 11, 12, 13, 14, 15]\n",
      "Numpy Array:  [ 1  2  3  4  5  6  7  8  9 10 11 12 13 14 15]\n"
     ]
    }
   ],
   "source": [
    "import numpy as np #Import numpy\n",
    "\n",
    "numberList = []\n",
    "\n",
    "for x in range(1, 16): # For loop for adding content of the list\n",
    "    numberList.append(x)\n",
    "\n",
    "print(\"List: \" + str(numberList))  # Print List \n",
    "\n",
    "numpyArray = np.array(numberList) # Conversion of List to Numpy Array\n",
    " \n",
    "print(\"Numpy Array: \", numpyArray)  # Print the NumPy array\n"
   ]
  },
  {
   "cell_type": "markdown",
   "metadata": {},
   "source": [
    "TASK 2. Reshaping Arrays\n",
    "\n",
    "Reshape the 1D array from Task 1 into a 3x5 2D array."
   ]
  },
  {
   "cell_type": "code",
   "execution_count": 27,
   "metadata": {},
   "outputs": [
    {
     "name": "stdout",
     "output_type": "stream",
     "text": [
      "3x5 2D Array:\n",
      " [[ 1  2  3  4  5]\n",
      " [ 6  7  8  9 10]\n",
      " [11 12 13 14 15]]\n"
     ]
    }
   ],
   "source": [
    "reshapedArray = numpyArray.reshape(3, 5) # Reshapes the Numpy Array into a 3x5 2D Array\n",
    "\n",
    "print(\"3x5 2D Array:\\n\", reshapedArray)"
   ]
  },
  {
   "cell_type": "markdown",
   "metadata": {},
   "source": [
    "TASK 3. Basic Arithmetic Operations\n",
    "\n",
    "Create a new array by adding 2 to every element in the 2D array from Task 2."
   ]
  },
  {
   "cell_type": "code",
   "execution_count": 28,
   "metadata": {},
   "outputs": [
    {
     "name": "stdout",
     "output_type": "stream",
     "text": [
      "3x5 2D Array + 2:\n",
      " [[ 3  4  5  6  7]\n",
      " [ 8  9 10 11 12]\n",
      " [13 14 15 16 17]]\n"
     ]
    }
   ],
   "source": [
    "addArray = reshapedArray + 2 # Adds 2 to every element in the 2D Array\n",
    "\n",
    "print(\"3x5 2D Array + 2:\\n\", addArray)"
   ]
  },
  {
   "cell_type": "markdown",
   "metadata": {},
   "source": [
    "TASK 4. Array Indexing and Slicing\n",
    "\n",
    "Extract the second row from the 2D array you created in Task 2."
   ]
  },
  {
   "cell_type": "code",
   "execution_count": 29,
   "metadata": {},
   "outputs": [
    {
     "name": "stdout",
     "output_type": "stream",
     "text": [
      "2nd Row: [ 6  7  8  9 10]\n"
     ]
    }
   ],
   "source": [
    "print(\"2nd Row:\", reshapedArray[1]) # Prints the extracted 2nd row"
   ]
  },
  {
   "cell_type": "markdown",
   "metadata": {},
   "source": [
    "TASK 5. Element-wise Operations\n",
    "\n",
    "Multiply each element in the 2D array by 3 and store the result in a new array.\n",
    "\n",
    "\n"
   ]
  },
  {
   "cell_type": "code",
   "execution_count": 30,
   "metadata": {},
   "outputs": [
    {
     "name": "stdout",
     "output_type": "stream",
     "text": [
      "Multiplied Array (by 3):  [[ 3  6  9 12 15]\n",
      " [18 21 24 27 30]\n",
      " [33 36 39 42 45]]\n"
     ]
    }
   ],
   "source": [
    "multipliedArray = reshapedArray * 3 # Multiplies 3 to every element in the 2D Array and store to new array\n",
    "\n",
    "print(\"Multiplied Array (by 3): \", multipliedArray)"
   ]
  },
  {
   "cell_type": "markdown",
   "metadata": {},
   "source": [
    "TASK 6. Basic Statistics\n",
    "\n",
    "Calculate the mean and sum of all elements in the array from Task 5."
   ]
  },
  {
   "cell_type": "code",
   "execution_count": 31,
   "metadata": {},
   "outputs": [
    {
     "name": "stdout",
     "output_type": "stream",
     "text": [
      "Mean of all elements:  24.0\n",
      "Sum of all elements:  360\n"
     ]
    }
   ],
   "source": [
    "print(\"Mean of all elements: \",np.mean(multipliedArray)) # Uses the mean function of numpyArray\n",
    "print(\"Sum of all elements: \",np.sum(multipliedArray)) # Uses the sum function of numpyArray"
   ]
  },
  {
   "cell_type": "markdown",
   "metadata": {},
   "source": [
    "# Part 2: Introduction to Pandas"
   ]
  },
  {
   "cell_type": "markdown",
   "metadata": {},
   "source": [
    "TASK 7. Creating DataFrames\n",
    "\n",
    "Create a Pandas DataFrame using the following data:\n",
    "\n",
    " data = {\n",
    "    'Name': ['Tom', 'Jane', 'Steve'],\n",
    "    'Age': [28, 34, 29],\n",
    "    'Salary': [50000, 60000, 55000]\n",
    "}\n"
   ]
  },
  {
   "cell_type": "code",
   "execution_count": 32,
   "metadata": {},
   "outputs": [
    {
     "data": {
      "text/html": [
       "<div>\n",
       "<style scoped>\n",
       "    .dataframe tbody tr th:only-of-type {\n",
       "        vertical-align: middle;\n",
       "    }\n",
       "\n",
       "    .dataframe tbody tr th {\n",
       "        vertical-align: top;\n",
       "    }\n",
       "\n",
       "    .dataframe thead th {\n",
       "        text-align: right;\n",
       "    }\n",
       "</style>\n",
       "<table border=\"1\" class=\"dataframe\">\n",
       "  <thead>\n",
       "    <tr style=\"text-align: right;\">\n",
       "      <th></th>\n",
       "      <th>Name</th>\n",
       "      <th>Age</th>\n",
       "      <th>Salary</th>\n",
       "    </tr>\n",
       "  </thead>\n",
       "  <tbody>\n",
       "    <tr>\n",
       "      <th>0</th>\n",
       "      <td>Tom</td>\n",
       "      <td>28</td>\n",
       "      <td>50000</td>\n",
       "    </tr>\n",
       "    <tr>\n",
       "      <th>1</th>\n",
       "      <td>Jane</td>\n",
       "      <td>34</td>\n",
       "      <td>60000</td>\n",
       "    </tr>\n",
       "    <tr>\n",
       "      <th>2</th>\n",
       "      <td>Steve</td>\n",
       "      <td>29</td>\n",
       "      <td>55000</td>\n",
       "    </tr>\n",
       "  </tbody>\n",
       "</table>\n",
       "</div>"
      ],
      "text/plain": [
       "    Name  Age  Salary\n",
       "0    Tom   28   50000\n",
       "1   Jane   34   60000\n",
       "2  Steve   29   55000"
      ]
     },
     "execution_count": 32,
     "metadata": {},
     "output_type": "execute_result"
    }
   ],
   "source": [
    "import pandas as pd # Import pandas\n",
    "data = pd.DataFrame({\n",
    "    'Name': ['Tom', 'Jane', 'Steve'],\n",
    "    'Age': [28, 34, 29],\n",
    "    'Salary': [50000, 60000, 55000]\n",
    "})\n",
    "\n",
    "data"
   ]
  },
  {
   "cell_type": "markdown",
   "metadata": {},
   "source": [
    "TASK 8. Accessing DataFrame columns\n",
    "\n",
    "Select the 'Name' column from the DataFrame and display it."
   ]
  },
  {
   "cell_type": "code",
   "execution_count": 33,
   "metadata": {},
   "outputs": [
    {
     "name": "stdout",
     "output_type": "stream",
     "text": [
      "Names\n"
     ]
    },
    {
     "data": {
      "text/plain": [
       "0      Tom\n",
       "1     Jane\n",
       "2    Steve\n",
       "Name: Name, dtype: object"
      ]
     },
     "execution_count": 33,
     "metadata": {},
     "output_type": "execute_result"
    }
   ],
   "source": [
    "print(\"Names\")\n",
    "data['Name'] #Prints column 'Name'"
   ]
  },
  {
   "cell_type": "markdown",
   "metadata": {},
   "source": [
    "TASK 9. Adding a New Column\n",
    "\n",
    "Add a new column to the DataFrame called 'Bonus', which is 10% of the 'Salary'."
   ]
  },
  {
   "cell_type": "code",
   "execution_count": 34,
   "metadata": {},
   "outputs": [
    {
     "data": {
      "text/html": [
       "<div>\n",
       "<style scoped>\n",
       "    .dataframe tbody tr th:only-of-type {\n",
       "        vertical-align: middle;\n",
       "    }\n",
       "\n",
       "    .dataframe tbody tr th {\n",
       "        vertical-align: top;\n",
       "    }\n",
       "\n",
       "    .dataframe thead th {\n",
       "        text-align: right;\n",
       "    }\n",
       "</style>\n",
       "<table border=\"1\" class=\"dataframe\">\n",
       "  <thead>\n",
       "    <tr style=\"text-align: right;\">\n",
       "      <th></th>\n",
       "      <th>Name</th>\n",
       "      <th>Age</th>\n",
       "      <th>Salary</th>\n",
       "      <th>Bonus</th>\n",
       "    </tr>\n",
       "  </thead>\n",
       "  <tbody>\n",
       "    <tr>\n",
       "      <th>0</th>\n",
       "      <td>Tom</td>\n",
       "      <td>28</td>\n",
       "      <td>50000</td>\n",
       "      <td>5000.0</td>\n",
       "    </tr>\n",
       "    <tr>\n",
       "      <th>1</th>\n",
       "      <td>Jane</td>\n",
       "      <td>34</td>\n",
       "      <td>60000</td>\n",
       "      <td>6000.0</td>\n",
       "    </tr>\n",
       "    <tr>\n",
       "      <th>2</th>\n",
       "      <td>Steve</td>\n",
       "      <td>29</td>\n",
       "      <td>55000</td>\n",
       "      <td>5500.0</td>\n",
       "    </tr>\n",
       "  </tbody>\n",
       "</table>\n",
       "</div>"
      ],
      "text/plain": [
       "    Name  Age  Salary   Bonus\n",
       "0    Tom   28   50000  5000.0\n",
       "1   Jane   34   60000  6000.0\n",
       "2  Steve   29   55000  5500.0"
      ]
     },
     "execution_count": 34,
     "metadata": {},
     "output_type": "execute_result"
    }
   ],
   "source": [
    "data['Bonus'] = data['Salary'] * 0.10 # Adds a new column that has 10% of their Salary\n",
    "\n",
    "data"
   ]
  },
  {
   "cell_type": "markdown",
   "metadata": {},
   "source": [
    "TASK 10. Basic DataFrame Statistics\n",
    "\n",
    "Calculate the average salary of all individuals in the DataFrame."
   ]
  },
  {
   "cell_type": "code",
   "execution_count": 35,
   "metadata": {},
   "outputs": [
    {
     "name": "stdout",
     "output_type": "stream",
     "text": [
      "Average Salary of all individuals:  55000.0\n"
     ]
    }
   ],
   "source": [
    "print(\"Average Salary of all individuals: \" ,data['Salary'].mean()) # Uses the mean function to calculate the average salary column for each individual\n"
   ]
  }
 ],
 "metadata": {
  "kernelspec": {
   "display_name": "Python 3",
   "language": "python",
   "name": "python3"
  },
  "language_info": {
   "codemirror_mode": {
    "name": "ipython",
    "version": 3
   },
   "file_extension": ".py",
   "mimetype": "text/x-python",
   "name": "python",
   "nbconvert_exporter": "python",
   "pygments_lexer": "ipython3",
   "version": "3.12.3"
  }
 },
 "nbformat": 4,
 "nbformat_minor": 2
}
