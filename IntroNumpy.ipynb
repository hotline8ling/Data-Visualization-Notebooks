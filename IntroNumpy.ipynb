{
 "cells": [
  {
   "cell_type": "code",
   "execution_count": 47,
   "id": "807560d3-0bf7-41b5-98ef-ea5f9b330de8",
   "metadata": {},
   "outputs": [],
   "source": [
    "import numpy as np\n"
   ]
  },
  {
   "cell_type": "code",
   "execution_count": 48,
   "id": "8d8c245e-64b2-4296-b460-5198703f9f76",
   "metadata": {},
   "outputs": [
    {
     "name": "stdout",
     "output_type": "stream",
     "text": [
      "<class 'numpy.ndarray'>\n",
      "[0 1 2 3 4]\n"
     ]
    }
   ],
   "source": [
    "## Creatin a NumPy Array\n",
    "\n",
    "list1 = [0,1,2,3,4]\n",
    "arr = np.array(list1)\n",
    "print(type(arr))\n",
    "print(arr)"
   ]
  },
  {
   "cell_type": "code",
   "execution_count": 49,
   "id": "28a55100-dbb5-4c91-ab71-b005a961343c",
   "metadata": {},
   "outputs": [
    {
     "name": "stdout",
     "output_type": "stream",
     "text": [
      "[2 3 4 5 6]\n"
     ]
    }
   ],
   "source": [
    "## Adding the number 2 to every item in the list\n",
    "\n",
    "arr = arr + 2\n",
    "print(arr)"
   ]
  },
  {
   "cell_type": "code",
   "execution_count": 50,
   "id": "99d61d62-6a30-4356-a44b-c86c234c8dbf",
   "metadata": {},
   "outputs": [
    {
     "name": "stdout",
     "output_type": "stream",
     "text": [
      "[[0 1 2]\n",
      " [3 4 5]\n",
      " [6 7 8]]\n"
     ]
    }
   ],
   "source": [
    "## Create a 2D array from a list of a list\n",
    "\n",
    "list2 = [[0,1,2], [3,4,5], [6,7,8]]\n",
    "arr2 = np.array(list2)\n",
    "print(arr2)"
   ]
  },
  {
   "cell_type": "code",
   "execution_count": 51,
   "id": "1f323d84-8c13-4142-9943-bac5d77d00ea",
   "metadata": {},
   "outputs": [
    {
     "name": "stdout",
     "output_type": "stream",
     "text": [
      "[[0. 1. 2.]\n",
      " [3. 4. 5.]\n",
      " [6. 7. 8.]]\n"
     ]
    }
   ],
   "source": [
    "## dtype argument\n",
    "\n",
    "arr3 = np.array(list2, dtype='float')\n",
    "print(arr3)"
   ]
  },
  {
   "cell_type": "code",
   "execution_count": 52,
   "id": "e8ef6232-15f4-4f0c-9dce-0b6851bff7de",
   "metadata": {},
   "outputs": [
    {
     "name": "stdout",
     "output_type": "stream",
     "text": [
      "[['0' '1' '2']\n",
      " ['3' '4' '5']\n",
      " ['6' '7' '8']]\n"
     ]
    }
   ],
   "source": [
    "## astype argument\n",
    "\n",
    "arr3_s = arr3.astype('int').astype('str')\n",
    "print(arr3_s)"
   ]
  },
  {
   "cell_type": "code",
   "execution_count": 53,
   "id": "698dc55c-6339-451f-81a1-836c5e63f08c",
   "metadata": {},
   "outputs": [
    {
     "name": "stdout",
     "output_type": "stream",
     "text": [
      "[1 'a']\n"
     ]
    }
   ],
   "source": [
    "## dtype = 'object'\n",
    "\n",
    "arr_obj = np.array([1, 'a'], dtype='object')\n",
    "print(arr_obj)"
   ]
  },
  {
   "cell_type": "code",
   "execution_count": 54,
   "id": "05096899-5786-4e9a-b59e-17418977ab39",
   "metadata": {},
   "outputs": [
    {
     "name": "stdout",
     "output_type": "stream",
     "text": [
      "[1, 'a']\n"
     ]
    }
   ],
   "source": [
    "## tolist() function\n",
    "\n",
    "arr_list = arr_obj.tolist()\n",
    "print(arr_list)"
   ]
  },
  {
   "cell_type": "code",
   "execution_count": 55,
   "id": "82f9d477-f852-417a-b387-5b67f16a0322",
   "metadata": {},
   "outputs": [
    {
     "name": "stdout",
     "output_type": "stream",
     "text": [
      "Shape (3, 3)\n",
      "Data Type float64\n",
      "Size 9\n",
      "Number of Dimensions 2\n"
     ]
    }
   ],
   "source": [
    "## Inspecting a NumPy array\n",
    "\n",
    "print('Shape', arr3.shape)\n",
    "print('Data Type', arr3.dtype)\n",
    "print('Size', arr3.size)\n",
    "print('Number of Dimensions', arr3.ndim)"
   ]
  },
  {
   "cell_type": "code",
   "execution_count": 56,
   "id": "5a7493fa-7e94-4433-86bc-f0affe2ba663",
   "metadata": {},
   "outputs": [
    {
     "name": "stdout",
     "output_type": "stream",
     "text": [
      "whole: [[0. 1. 2.]\n",
      " [3. 4. 5.]\n",
      " [6. 7. 8.]]\n",
      "Part: [[0. 1.]\n",
      " [3. 4.]]\n"
     ]
    }
   ],
   "source": [
    "## Extracting specific items from an array\n",
    "\n",
    "arr3 = np.array(list2, dtype='float')\n",
    "print(\"whole:\", arr3)\n",
    "print(\"Part:\", arr3[:2, :2])"
   ]
  },
  {
   "cell_type": "code",
   "execution_count": 57,
   "id": "0751041e-9157-4176-a7a1-077b03b103e9",
   "metadata": {},
   "outputs": [
    {
     "name": "stdout",
     "output_type": "stream",
     "text": [
      "[[False False False]\n",
      " [ True  True  True]\n",
      " [ True  True  True]]\n"
     ]
    }
   ],
   "source": [
    "## Boolean Indexing\n",
    "\n",
    "arr3 = np.array(list2, dtype='float')\n",
    "boo = arr3 > 2\n",
    "print(boo)"
   ]
  },
  {
   "cell_type": "code",
   "execution_count": 58,
   "id": "65347124",
   "metadata": {},
   "outputs": [
    {
     "name": "stdout",
     "output_type": "stream",
     "text": [
      "0     5\n",
      "1     6\n",
      "2     7\n",
      "3     8\n",
      "4     9\n",
      "5    10\n",
      "dtype: int64\n"
     ]
    }
   ],
   "source": [
    "import pandas as pd\n",
    "new_series = pd.Series([5,6,7,8,9,10])\n",
    "print(new_series)"
   ]
  },
  {
   "cell_type": "code",
   "execution_count": 59,
   "id": "910b26a8",
   "metadata": {},
   "outputs": [
    {
     "name": "stdout",
     "output_type": "stream",
     "text": [
      "[ 5  6  7  8  9 10]\n",
      "______________\n",
      "9\n"
     ]
    }
   ],
   "source": [
    "import pandas as pd\n",
    "new_series = pd.Series([5,6,7,8,9,10])\n",
    "print(new_series.values)\n",
    "print('______________')\n",
    "print(new_series[4])"
   ]
  },
  {
   "cell_type": "code",
   "execution_count": 60,
   "id": "7447e170",
   "metadata": {},
   "outputs": [
    {
     "name": "stdout",
     "output_type": "stream",
     "text": [
      "[ 5  6  7  8  9 10]\n",
      "______________\n",
      "10\n"
     ]
    }
   ],
   "source": [
    "import pandas as pd\n",
    "new_series = pd.Series([5,6,7,8,9,10], index=['a','b','c','d','e','f'])\n",
    "print(new_series.values)\n",
    "print('______________')\n",
    "print(new_series['f'])"
   ]
  },
  {
   "cell_type": "code",
   "execution_count": 61,
   "id": "7f8dafc5",
   "metadata": {},
   "outputs": [
    {
     "name": "stdout",
     "output_type": "stream",
     "text": [
      "a     5\n",
      "b     6\n",
      "c     7\n",
      "d     8\n",
      "e     9\n",
      "f    10\n",
      "dtype: int64\n",
      "______________\n",
      "a    0\n",
      "b    0\n",
      "c    7\n",
      "d    8\n",
      "e    9\n",
      "f    0\n",
      "dtype: int64\n"
     ]
    }
   ],
   "source": [
    "import pandas as pd\n",
    "new_series = pd.Series([5,6,7,8,9,10], index=['a','b','c','d','e','f'])\n",
    "print(new_series)\n",
    "print('______________')\n",
    "new_series[['a','b','f']] = 0\n",
    "print(new_series)"
   ]
  },
  {
   "cell_type": "code",
   "execution_count": 62,
   "id": "300a8403",
   "metadata": {},
   "outputs": [
    {
     "name": "stdout",
     "output_type": "stream",
     "text": [
      "a     5\n",
      "b     6\n",
      "c     7\n",
      "d     8\n",
      "e     9\n",
      "f    10\n",
      "dtype: int64\n",
      "a     5\n",
      "b     6\n",
      "c     7\n",
      "d     8\n",
      "e     9\n",
      "f    10\n",
      "dtype: int64\n"
     ]
    }
   ],
   "source": [
    "import pandas as pd\n",
    "new_series = pd.Series([5,6,7,8,9,10], index=['a','b','c','d','e','f'])\n",
    "new_series2 = new_series[new_series>0]\n",
    "print(new_series2)\n",
    "new_series2[new_series2>0]*2\n",
    "print(new_series2)"
   ]
  },
  {
   "cell_type": "code",
   "execution_count": 63,
   "id": "7555860b",
   "metadata": {},
   "outputs": [
    {
     "name": "stdout",
     "output_type": "stream",
     "text": [
      "      country  population     square\n",
      "0  Kazakhstan       17.04    2000000\n",
      "1      Russia      143.50  171000000\n",
      "2     Belarus        9.50    2076000\n",
      "3     Ukraine       45.50    6035000\n"
     ]
    }
   ],
   "source": [
    "import pandas as pd\n",
    "df = pd.DataFrame({\n",
    "    'country': ['Kazakhstan','Russia','Belarus','Ukraine'],\n",
    "    'population': [17.04, 143.5, 9.5, 45.5],\n",
    "    'square': [2000000, 171000000, 2076000, 6035000]\n",
    "})\n",
    "print(df)\n"
   ]
  },
  {
   "cell_type": "code",
   "execution_count": 64,
   "id": "3d1706bb",
   "metadata": {},
   "outputs": [
    {
     "name": "stdout",
     "output_type": "stream",
     "text": [
      "   0  1  2\n",
      "0  0  1  2\n",
      "1  3  4  5\n",
      "2  6  7  8\n",
      "   V1  V2  V3\n",
      "0   0   1   2\n",
      "1   3   4   5\n",
      "2   6   7   8\n"
     ]
    }
   ],
   "source": [
    "import pandas as pd\n",
    "list2 = [[0,1,2],[3,4,5],[6,7,8]]\n",
    "df = pd.DataFrame(list2)\n",
    "print(df)\n",
    "df.columns = ['V1', 'V2', 'V3']\n",
    "print(df)"
   ]
  },
  {
   "cell_type": "code",
   "execution_count": 65,
   "id": "14c91384",
   "metadata": {},
   "outputs": [
    {
     "name": "stdout",
     "output_type": "stream",
     "text": [
      "Index(['country', 'population', 'square'], dtype='object')\n",
      "____________\n",
      "Index(['KZ', 'RU', 'BY', 'UA'], dtype='object')\n",
      "                 country  population     square\n",
      "Country Code                                   \n",
      "KZ            Kazakhstan       17.04    2000000\n",
      "RU                Russia      143.50  171000000\n",
      "BY               Belarus        9.50    2076000\n",
      "UA               Ukraine       45.50    6035000\n"
     ]
    }
   ],
   "source": [
    "import pandas as pd\n",
    "df = pd.DataFrame({\n",
    "    'country': ['Kazakhstan','Russia','Belarus','Ukraine'],\n",
    "    'population': [17.04, 143.5, 9.5, 45.5],\n",
    "    'square': [2000000, 171000000, 2076000, 6035000]\n",
    "}, index = ['KZ', 'RU', 'BY', 'UA'])\n",
    "print(df.columns)\n",
    "print('____________')\n",
    "print(df.index)\n",
    "\n",
    "df.index.name = 'Country Code'\n",
    "print(df)"
   ]
  },
  {
   "cell_type": "code",
   "execution_count": 66,
   "id": "6e77bce7",
   "metadata": {},
   "outputs": [
    {
     "name": "stdout",
     "output_type": "stream",
     "text": [
      "country       Kazakhstan\n",
      "population         17.04\n",
      "square           2000000\n",
      "Name: KZ, dtype: object\n"
     ]
    }
   ],
   "source": [
    "print(df.loc['KZ'])"
   ]
  },
  {
   "cell_type": "code",
   "execution_count": 67,
   "id": "998efdca",
   "metadata": {},
   "outputs": [
    {
     "name": "stdout",
     "output_type": "stream",
     "text": [
      "country       Kazakhstan\n",
      "population         17.04\n",
      "square           2000000\n",
      "Name: KZ, dtype: object\n"
     ]
    }
   ],
   "source": [
    "print(df.iloc[0])"
   ]
  },
  {
   "cell_type": "code",
   "execution_count": 68,
   "id": "1e70a3b4",
   "metadata": {},
   "outputs": [
    {
     "name": "stdout",
     "output_type": "stream",
     "text": [
      "Country Code\n",
      "KZ     17.04\n",
      "RU    143.50\n",
      "Name: population, dtype: float64\n"
     ]
    }
   ],
   "source": [
    "print(df.loc[['KZ','RU'], 'population'])"
   ]
  },
  {
   "cell_type": "code",
   "execution_count": 69,
   "id": "f2297920",
   "metadata": {},
   "outputs": [
    {
     "name": "stdout",
     "output_type": "stream",
     "text": [
      "                 country  population   square\n",
      "Country Code                                 \n",
      "KZ            Kazakhstan       17.04  2000000\n",
      "BY               Belarus        9.50  2076000\n"
     ]
    }
   ],
   "source": [
    "print(df.loc[['KZ','BY'], :])"
   ]
  },
  {
   "cell_type": "code",
   "execution_count": 70,
   "id": "fd317429",
   "metadata": {},
   "outputs": [
    {
     "name": "stdout",
     "output_type": "stream",
     "text": [
      "                 country     square\n",
      "Country Code                       \n",
      "KZ            Kazakhstan    2000000\n",
      "RU                Russia  171000000\n",
      "UA               Ukraine    6035000\n"
     ]
    }
   ],
   "source": [
    "print(df[df.population > 10][['country', 'square']])"
   ]
  },
  {
   "cell_type": "code",
   "execution_count": 71,
   "id": "1a348604",
   "metadata": {},
   "outputs": [
    {
     "name": "stdout",
     "output_type": "stream",
     "text": [
      "                 country     square\n",
      "Country Code                       \n",
      "KZ            Kazakhstan    2000000\n",
      "RU                Russia  171000000\n",
      "BY               Belarus    2076000\n",
      "UA               Ukraine    6035000\n"
     ]
    }
   ],
   "source": [
    "df = df.drop(['population'], axis='columns')\n",
    "print(df)"
   ]
  },
  {
   "cell_type": "code",
   "execution_count": null,
   "id": "cc4049e6",
   "metadata": {},
   "outputs": [],
   "source": []
  },
  {
   "cell_type": "code",
   "execution_count": null,
   "id": "6f62f682",
   "metadata": {},
   "outputs": [],
   "source": []
  },
  {
   "cell_type": "code",
   "execution_count": null,
   "id": "e397d391",
   "metadata": {},
   "outputs": [],
   "source": []
  }
 ],
 "metadata": {
  "kernelspec": {
   "display_name": "Python 3 (ipykernel)",
   "language": "python",
   "name": "python3"
  },
  "language_info": {
   "codemirror_mode": {
    "name": "ipython",
    "version": 3
   },
   "file_extension": ".py",
   "mimetype": "text/x-python",
   "name": "python",
   "nbconvert_exporter": "python",
   "pygments_lexer": "ipython3",
   "version": "3.12.3"
  }
 },
 "nbformat": 4,
 "nbformat_minor": 5
}
